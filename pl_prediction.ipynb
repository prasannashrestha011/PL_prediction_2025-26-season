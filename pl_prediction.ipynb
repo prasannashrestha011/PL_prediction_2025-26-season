{
  "nbformat": 4,
  "nbformat_minor": 0,
  "metadata": {
    "colab": {
      "provenance": [],
      "authorship_tag": "ABX9TyM6pPfs1MoVZdpmJgrZIQBh",
      "include_colab_link": true
    },
    "kernelspec": {
      "name": "python3",
      "display_name": "Python 3"
    },
    "language_info": {
      "name": "python"
    }
  },
  "cells": [
    {
      "cell_type": "markdown",
      "metadata": {
        "id": "view-in-github",
        "colab_type": "text"
      },
      "source": [
        "<a href=\"https://colab.research.google.com/github/prasannashrestha011/PL_prediction_/blob/main/pl_prediction.ipynb\" target=\"_parent\"><img src=\"https://colab.research.google.com/assets/colab-badge.svg\" alt=\"Open In Colab\"/></a>"
      ]
    },
    {
      "cell_type": "code",
      "execution_count": 195,
      "metadata": {
        "colab": {
          "base_uri": "https://localhost:8080/"
        },
        "id": "x6GeuYuryr3f",
        "outputId": "03d97f55-7b1e-4edd-adf9-c8aa361945f8"
      },
      "outputs": [
        {
          "output_type": "stream",
          "name": "stdout",
          "text": [
            "Drive already mounted at /content/drive; to attempt to forcibly remount, call drive.mount(\"/content/drive\", force_remount=True).\n"
          ]
        }
      ],
      "source": [
        "from google.colab import drive\n",
        "drive.mount('/content/drive')\n"
      ]
    },
    {
      "cell_type": "code",
      "source": [
        "import pandas as pd\n",
        "from typing import List,Dict,Tuple\n",
        "from collections import defaultdict\n",
        "\n",
        "from sklearn.preprocessing import StandardScaler\n",
        "from sklearn.pipeline import Pipeline\n",
        "from sklearn.model_selection import train_test_split\n",
        "from sklearn.ensemble import RandomForestClassifier"
      ],
      "metadata": {
        "id": "K5MVuaKOzW3X"
      },
      "execution_count": 196,
      "outputs": []
    },
    {
      "cell_type": "code",
      "source": [
        "def parse_match_result(df:pd.DataFrame)->pd.DataFrame:\n",
        "  goals=df['FT'].str.split(\"-\",expand=True)\n",
        "  df=df.copy()\n",
        "  df['home_goals']=goals[0].astype(int)\n",
        "  df['away_goals']=goals[1].astype(int)\n",
        "  return df"
      ],
      "metadata": {
        "id": "GFUb8wVR3mR6"
      },
      "execution_count": 197,
      "outputs": []
    },
    {
      "cell_type": "code",
      "source": [
        "def summarise_season(matches:pd.DataFrame)->pd.DataFrame:\n",
        "  teams:Dict[str,Dict[str,int]]=defaultdict(lambda:{\n",
        "      \"points\":0,\n",
        "      \"wins\":0,\n",
        "      \"losses\":0,\n",
        "      \"draws\":0,\n",
        "      \"goals_for\":0,\n",
        "      \"goals_against\":0,\n",
        "  })\n",
        "  for _,row in matches.iterrows():\n",
        "    home,away=row[\"Team 1\"],row[\"Team 2\"]\n",
        "    hg,ag=row[\"home_goals\"],row[\"away_goals\"]\n",
        "\n",
        "    #goals stats for home team\n",
        "    teams[home][\"goals_for\"]+=hg\n",
        "    teams[home][\"goals_against\"]+=ag\n",
        "    #goal stats for away team\n",
        "    teams[away][\"goals_for\"]+=ag\n",
        "    teams[away][\"goals_against\"]+=hg\n",
        "\n",
        "    if hg>ag:\n",
        "      teams[home][\"points\"]+=3\n",
        "      teams[home][\"wins\"]+=1\n",
        "      teams[away][\"losses\"]+=1\n",
        "    elif ag>hg:\n",
        "      teams[away][\"points\"]+=3\n",
        "      teams[away][\"wins\"]+=1\n",
        "      teams[home][\"losses\"]+=1\n",
        "    else:\n",
        "      teams[home][\"points\"]+=1\n",
        "      teams[away][\"points\"]+=1\n",
        "      teams[home][\"draws\"]+=1\n",
        "      teams[away][\"draws\"]+=1\n",
        "\n",
        "    #calculating goal difference\n",
        "    data=[]\n",
        "    for team,stats in teams.items():\n",
        "       goal_diff=stats['goals_for']-stats['goals_for']\n",
        "       data.append({\n",
        "           \"team\":team,\n",
        "           \"points\":stats[\"points\"],\n",
        "           \"wins\":stats[\"wins\"],\n",
        "           \"losses\":stats[\"losses\"],\n",
        "           \"draws\":stats[\"draws\"],\n",
        "           \"goals_for\":stats[\"goals_for\"],\n",
        "           \"goals_against\":stats[\"goals_against\"],\n",
        "           \"goal_diff\":goal_diff\n",
        "       })\n",
        "    summary=pd.DataFrame(data)\n",
        "    summary=summary.sort_values([\"points\",\"goals_for\",\"goal_diff\"],ascending=[False,False,False]).reset_index(drop=True)\n",
        "    summary[\"position\"]=summary.index+1\n",
        "  return summary\n"
      ],
      "metadata": {
        "id": "hjE47lI94izK"
      },
      "execution_count": 198,
      "outputs": []
    },
    {
      "cell_type": "code",
      "source": [
        "def prepare_training_data(season_files:List[str])->Tuple[pd.DataFrame,pd.Series,pd.DataFrame]:\n",
        "  season_summaries:Dict[str,pd.DataFrame]={}\n",
        "  for file_path in season_files:\n",
        "    raw = pd.read_csv(file_path)\n",
        "    parsed = parse_match_result(raw)\n",
        "    summary = summarise_season(parsed)\n",
        "    season_summaries[file_path] = summary\n",
        "\n",
        "  file_sorted = season_files\n",
        "  for i in range(len(file_sorted) - 1):\n",
        "    prev_summary = season_summaries[file_sorted[i]].copy().set_index('team')\n",
        "    current_summary=season_summaries[file_sorted[i+1]].copy().set_index('team')\n",
        "\n",
        "    #collecting the average value for newly promted teams from relegated teams\n",
        "    bottom_three=prev_summary.sort_values(['points','goals_for','goal_diff'],ascending=[True,True,True]).head(3)\n",
        "    default_features=bottom_three.mean().to_dict()\n",
        "\n",
        "    feature_rows=[]\n",
        "    target_rows=[]\n",
        "    for team,row in current_summary.iterrows():\n",
        "        if team in prev_summary.index:\n",
        "          feats=prev_summary.loc[team][[\"points\",\"wins\",\"losses\",\"draws\",\"goals_for\",\"goals_against\",\"goal_diff\"]].to_dict()\n",
        "        else:\n",
        "          feats={k:default_features[k] for k in [\"points\",\"wins\",\"losses\",\"draws\",\"goals_for\",\"goals_against\",\"goal_diff\"]}\n",
        "        feature_rows.append(feats)\n",
        "        target_rows.append(row[\"position\"])\n",
        "\n",
        "  X_train=pd.DataFrame(feature_rows)\n",
        "  y_train=pd.Series(target_rows)\n",
        "\n",
        "  #features for the latest season to predict the upcoming season positions\n",
        "  last_summary=season_summaries[file_sorted[-1]].copy().set_index(\"team\")\n",
        "  default_latest_features=last_summary.sort_values([\"points\",\"goals_for\",\"goal_diff\"],ascending=[True,True,True]).head(3).mean().to_dict()\n",
        "  last_summary_sorted=last_summary.sort_values([\"points\",\"goals_for\",\"goal_diff\"],ascending=[False,False,False]).head(17)\n",
        "  staying_teams=last_summary_sorted.index.tolist()\n",
        "\n",
        "  #promoted teams in 2025 season\n",
        "  promoted = [\"Leeds United\", \"Burnley\", \"Sunderland\"]\n",
        "  latest_feature_rows=[]\n",
        "  for team in staying_teams:\n",
        "          feats = last_summary.loc[team][\n",
        "              [\"points\", \"wins\", \"draws\", \"losses\", \"goals_for\", \"goals_against\", \"goal_diff\"]\n",
        "          ].to_dict()\n",
        "          latest_feature_rows.append((team, feats))\n",
        "  for team in promoted:\n",
        "      feats = {k: default_latest_features[k] for k in [\n",
        "                  \"points\", \"wins\", \"draws\", \"losses\", \"goals_for\", \"goals_against\", \"goal_diff\"\n",
        "          ]}\n",
        "  feature_columns = [\"points\", \"wins\", \"losses\", \"draws\", \"goals_for\", \"goals_against\", \"goal_diff\"]\n",
        "\n",
        "  X_train = pd.DataFrame(feature_rows, columns=feature_columns)\n",
        "\n",
        "  latest_features_df = pd.DataFrame([feats for _, feats in latest_feature_rows],\n",
        "                                      index=[t for t, _ in latest_feature_rows], columns=feature_columns)\n",
        "  return X_train, y_train, latest_features_df\n",
        "\n",
        "\n",
        "\n",
        "\n",
        "\n",
        "\n",
        "\n"
      ],
      "metadata": {
        "id": "aeNeAqEu0OVh"
      },
      "execution_count": 224,
      "outputs": []
    },
    {
      "cell_type": "code",
      "source": [
        "def build_train_model(X:pd.DataFrame,y:pd.Series)->Pipeline:\n",
        "  model=Pipeline([\n",
        "      (\"scaler\",StandardScaler()),\n",
        "      (\"rf\",RandomForestClassifier(n_estimators=100,\n",
        "                                   max_depth=8,\n",
        "                                   random_state=42,\n",
        "                                   class_weight=\"balanced\"))\n",
        "  ])\n",
        "  model.fit(X,y)\n",
        "  return model"
      ],
      "metadata": {
        "id": "K2PO6KHg3JiZ"
      },
      "execution_count": 200,
      "outputs": []
    },
    {
      "cell_type": "code",
      "source": [
        "def predict_pl_table(model:Pipeline,features:pd.DataFrame)->pd.DataFrame:\n",
        "  probas=model.predict_proba(features)\n",
        "  classes = model.named_steps[\"rf\"].classes_\n",
        "  exp_positions = probas.dot(classes)\n",
        "  prediction_df = pd.DataFrame({\n",
        "      \"team\": features.index,\n",
        "      \"expected_position\": exp_positions\n",
        "  })\n",
        "  # sort teams by lowest expected position (i.e. best finish)\n",
        "  prediction_df = prediction_df.sort_values(\"expected_position\").reset_index(drop=True)\n",
        "  # assign integer ranks 1..n based on sorted order\n",
        "  prediction_df[\"predicted_rank\"] = prediction_df.index + 1\n",
        "  return prediction_df[[\"predicted_rank\", \"team\", \"expected_position\"]]\n",
        "\n"
      ],
      "metadata": {
        "id": "HPBnGGMm_YK-"
      },
      "execution_count": 226,
      "outputs": []
    },
    {
      "cell_type": "code",
      "source": [
        "X_train.columns"
      ],
      "metadata": {
        "colab": {
          "base_uri": "https://localhost:8080/"
        },
        "id": "_8bwY8yBCSO_",
        "outputId": "39339d82-8f14-4599-ad22-ab7d1a1e742d"
      },
      "execution_count": 202,
      "outputs": [
        {
          "output_type": "execute_result",
          "data": {
            "text/plain": [
              "Index(['points', 'wins', 'losses', 'draws', 'goals_for', 'goals_against',\n",
              "       'goal_diff'],\n",
              "      dtype='object')"
            ]
          },
          "metadata": {},
          "execution_count": 202
        }
      ]
    },
    {
      "cell_type": "code",
      "source": [
        "import os\n",
        "data_path=\"/content/drive/MyDrive/data\"\n",
        "files = os.listdir(data_path)\n",
        "season_files = [os.path.join(data_path, f) for f in files]"
      ],
      "metadata": {
        "id": "U4_R2LxbzHgH"
      },
      "execution_count": 203,
      "outputs": []
    },
    {
      "cell_type": "code",
      "source": [
        "def main():\n",
        "  X_train,y_train,latest_feature_df=prepare_training_data(season_files)\n",
        "  model=build_train_model(X_train,y_train)\n",
        "  df=predict_pl_table(model,latest_feature_df)\n",
        "  print(df)\n",
        "\n",
        "\n",
        "main()"
      ],
      "metadata": {
        "colab": {
          "base_uri": "https://localhost:8080/"
        },
        "id": "MLF0E1AI-E8p",
        "outputId": "e33b77e0-b4ee-4cb4-8709-04375dcb1956"
      },
      "execution_count": 229,
      "outputs": [
        {
          "output_type": "stream",
          "name": "stdout",
          "text": [
            "    predicted_rank            team  expected_position\n",
            "0                1         Arsenal           3.010000\n",
            "1                2        Man City           3.300000\n",
            "2                3       Liverpool           5.000000\n",
            "3                4     Aston Villa           6.880000\n",
            "4                5       Tottenham           7.982000\n",
            "5                6         Chelsea           8.130000\n",
            "6                7       Newcastle           9.302000\n",
            "7                8         Everton           9.360000\n",
            "8                9  Crystal Palace          10.400000\n",
            "9               10      Man United          10.492000\n",
            "10              11          Fulham          10.616667\n",
            "11              12        Brighton          10.690000\n",
            "12              13     Bournemouth          10.810000\n",
            "13              14        West Ham          10.976429\n",
            "14              15          Wolves          11.916667\n",
            "15              16       Brentford          13.426667\n",
            "16              17   Nott'm Forest          13.544000\n"
          ]
        }
      ]
    },
    {
      "cell_type": "code",
      "source": [],
      "metadata": {
        "id": "NAHCSuTyFprN"
      },
      "execution_count": 228,
      "outputs": []
    }
  ]
}